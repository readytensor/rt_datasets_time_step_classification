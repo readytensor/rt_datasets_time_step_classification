{
 "cells": [
  {
   "cell_type": "markdown",
   "metadata": {},
   "source": [
    "# EMG Data for Gestures"
   ]
  },
  {
   "cell_type": "code",
   "execution_count": 58,
   "metadata": {},
   "outputs": [],
   "source": [
    "import os\n",
    "import random\n",
    "import zipfile\n",
    "import numpy as np\n",
    "import pandas as pd\n",
    "import matplotlib.pyplot as plt\n",
    "from pathlib import Path\n"
   ]
  },
  {
   "cell_type": "code",
   "execution_count": 59,
   "metadata": {},
   "outputs": [],
   "source": [
    "def extract_zip(zip_path, extract_to):\n",
    "    \"\"\"\n",
    "    Extracts a zip file to a specified directory.\n",
    "\n",
    "    Args:\n",
    "    zip_path (str): The path to the .zip file.\n",
    "    extract_to (str): The directory where the contents will be extracted.\n",
    "\n",
    "    Returns:\n",
    "    bool: True if the extraction was successful, False otherwise.\n",
    "    \"\"\"\n",
    "    if not os.path.exists(extract_to):\n",
    "        os.makedirs(extract_to)  # Create target directory if it doesn't exist\n",
    "\n",
    "    try:\n",
    "        with zipfile.ZipFile(zip_path, 'r') as zip_ref:\n",
    "            zip_ref.extractall(extract_to)\n",
    "            print(f\"Extracted all files in {zip_path} to {extract_to}\")\n",
    "        return True\n",
    "    except zipfile.BadZipFile:\n",
    "        print(\"Error: Bad ZIP file.\")\n",
    "    except FileNotFoundError:\n",
    "        print(\"Error: ZIP file not found.\")\n",
    "    except Exception as e:\n",
    "        print(f\"An error occurred: {e}\")\n",
    "    return False"
   ]
  },
  {
   "cell_type": "markdown",
   "metadata": {},
   "source": [
    "## Paths and variables"
   ]
  },
  {
   "cell_type": "code",
   "execution_count": 60,
   "metadata": {},
   "outputs": [],
   "source": [
    "id_col = 'subject_trail'\n",
    "time_col = 'time'\n",
    "target_col = 'class'"
   ]
  },
  {
   "cell_type": "code",
   "execution_count": 61,
   "metadata": {},
   "outputs": [],
   "source": [
    "dataset_handle = 'EMG Gestures'\n",
    "dataset_name = 'emg_gestures'\n",
    "processed_dir = './../../processed/'\n",
    "output_dir = f'./../../processed/{dataset_name}/'\n",
    "os.makedirs(output_dir, exist_ok=True)\n",
    "full_outp_fname = os.path.join(output_dir, f'{dataset_name}.csv')\n",
    "test_key_outp_fname = os.path.join(output_dir, f'{dataset_name}_test_key.csv')\n",
    "train_outp_fname = os.path.join(output_dir, f'{dataset_name}_train.csv')\n",
    "test_outp_fname = os.path.join(output_dir, f'{dataset_name}_test.csv')"
   ]
  },
  {
   "cell_type": "markdown",
   "metadata": {},
   "source": [
    "## Read the data"
   ]
  },
  {
   "cell_type": "code",
   "execution_count": 62,
   "metadata": {},
   "outputs": [],
   "source": [
    "if not os.path.exists('./data'):\n",
    "    extract_zip(f'./data.zip', './')\n",
    "\n",
    "subject_ids = [i for i in os.listdir('./data') if os.path.isdir(f'./data/{i}')]\n",
    "paths = [os.path.join('./data', i) for i in subject_ids]\n",
    "full_data = []\n",
    "for path in paths:\n",
    "    files = os.listdir(path)\n",
    "    file_paths = [os.path.join(path, i) for i in files]\n",
    "\n",
    "    for file, file_path in zip(files, file_paths):\n",
    "        trail_number = int(file[0])\n",
    "        data = pd.read_csv(file_path, sep='\\t')\n",
    "        subject_id = Path(path).name\n",
    "        id = f'{subject_id}_{trail_number}'\n",
    "        data.insert(0, id_col, id)\n",
    "\n",
    "        full_data.append(data)\n",
    "    \n",
    "data = pd.concat(full_data)\n",
    "data.bfill(inplace=True)"
   ]
  },
  {
   "cell_type": "code",
   "execution_count": 63,
   "metadata": {},
   "outputs": [
    {
     "data": {
      "text/plain": [
       "<Axes: >"
      ]
     },
     "execution_count": 63,
     "metadata": {},
     "output_type": "execute_result"
    },
    {
     "data": {
      "image/png": "[encoded data removed]",
      "text/plain": [
       "<Figure size 640x480 with 1 Axes>"
      ]
     },
     "metadata": {},
     "output_type": "display_data"
    }
   ],
   "source": [
    "data[data[id_col] == '01_1']['class'].plot()"
   ]
  },
  {
   "cell_type": "markdown",
   "metadata": {},
   "source": [
    "## Train/Test split"
   ]
  },
  {
   "cell_type": "code",
   "execution_count": 64,
   "metadata": {},
   "outputs": [],
   "source": [
    "random.seed(42)\n",
    "# As shown in the plot above, half follows a pattern where all classes appear in the first half and then repeat in the second half.\n",
    "# Therefore the train-test split is going to be 50/50 to ensure that all classes are present in both sets.\n",
    "test_size = 0.2\n",
    "ids = data[id_col].unique().tolist()\n",
    "\n",
    "# Split data into train and test\n",
    "num_test_subjects = int(test_size * len(ids))\n",
    "test_subjects = random.sample(ids, num_test_subjects)\n",
    "train_subjects = [sid for sid in ids if sid not in test_subjects]"
   ]
  },
  {
   "cell_type": "code",
   "execution_count": 65,
   "metadata": {},
   "outputs": [],
   "source": [
    "train_df = data[data[id_col].isin(train_subjects)]\n",
    "test_df = data[data[id_col].isin(test_subjects)]\n",
    "\n",
    "test_key = test_df[[id_col, time_col, target_col]]\n",
    "test_df = test_df.drop(columns=[target_col])"
   ]
  },
  {
   "cell_type": "code",
   "execution_count": 72,
   "metadata": {},
   "outputs": [],
   "source": [
    "def save_df_to_zipped_csv(df, ftype=None): \n",
    "    if ftype is not None: \n",
    "        suffix = f'_{ftype}'\n",
    "    else: \n",
    "        suffix = ''\n",
    "        \n",
    "    zipped_f_name = f'{dataset_name}{suffix}.zip'\n",
    "    archive_f_name = f'{dataset_name}{suffix}.csv'   \n",
    "    compression_opts = dict(method='zip',\n",
    "                        archive_name=archive_f_name)      \n",
    "    df.to_csv(os.path.join(output_dir, zipped_f_name), index=False, compression=compression_opts )"
   ]
  },
  {
   "cell_type": "markdown",
   "metadata": {},
   "source": [
    "## Save data"
   ]
  },
  {
   "cell_type": "code",
   "execution_count": 73,
   "metadata": {},
   "outputs": [],
   "source": [
    "save_df_to_zipped_csv(data)\n",
    "save_df_to_zipped_csv(train_df, \"train\")\n",
    "save_df_to_zipped_csv(test_df, \"test\")\n",
    "save_df_to_zipped_csv(test_key, \"test_key\")\n"
   ]
  },
  {
   "cell_type": "code",
   "execution_count": null,
   "metadata": {},
   "outputs": [],
   "source": []
  }
 ],
 "metadata": {
  "kernelspec": {
   "display_name": ".venv",
   "language": "python",
   "name": "python3"
  },
  "language_info": {
   "codemirror_mode": {
    "name": "ipython",
    "version": 3
   },
   "file_extension": ".py",
   "mimetype": "text/x-python",
   "name": "python",
   "nbconvert_exporter": "python",
   "pygments_lexer": "ipython3",
   "version": "3.11.0"
  }
 },
 "nbformat": 4,
 "nbformat_minor": 2
}
