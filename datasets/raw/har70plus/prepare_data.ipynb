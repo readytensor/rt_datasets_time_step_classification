{
 "cells": [
  {
   "cell_type": "markdown",
   "metadata": {},
   "source": [
    "# HAR70+"
   ]
  },
  {
   "cell_type": "code",
   "execution_count": 102,
   "metadata": {},
   "outputs": [],
   "source": [
    "import os\n",
    "import random\n",
    "import zipfile\n",
    "import numpy as np\n",
    "import pandas as pd\n",
    "import matplotlib.pyplot as plt\n",
    "from pathlib import Path\n",
    "from statistics import mode\n"
   ]
  },
  {
   "cell_type": "code",
   "execution_count": 103,
   "metadata": {},
   "outputs": [],
   "source": [
    "def extract_zip(zip_path, extract_to):\n",
    "    \"\"\"\n",
    "    Extracts a zip file to a specified directory.\n",
    "\n",
    "    Args:\n",
    "    zip_path (str): The path to the .zip file.\n",
    "    extract_to (str): The directory where the contents will be extracted.\n",
    "\n",
    "    Returns:\n",
    "    bool: True if the extraction was successful, False otherwise.\n",
    "    \"\"\"\n",
    "    if not os.path.exists(extract_to):\n",
    "        os.makedirs(extract_to)  # Create target directory if it doesn't exist\n",
    "\n",
    "    try:\n",
    "        with zipfile.ZipFile(zip_path, 'r') as zip_ref:\n",
    "            zip_ref.extractall(extract_to)\n",
    "            print(f\"Extracted all files in {zip_path} to {extract_to}\")\n",
    "        return True\n",
    "    except zipfile.BadZipFile:\n",
    "        print(\"Error: Bad ZIP file.\")\n",
    "    except FileNotFoundError:\n",
    "        print(\"Error: ZIP file not found.\")\n",
    "    except Exception as e:\n",
    "        print(f\"An error occurred: {e}\")\n",
    "    return False"
   ]
  },
  {
   "cell_type": "markdown",
   "metadata": {},
   "source": [
    "## Paths and variables"
   ]
  },
  {
   "cell_type": "code",
   "execution_count": 104,
   "metadata": {},
   "outputs": [],
   "source": [
    "id_col = 'subject_id'\n",
    "time_col = 'timestamp'\n",
    "target_col = 'label'"
   ]
  },
  {
   "cell_type": "code",
   "execution_count": 105,
   "metadata": {},
   "outputs": [],
   "source": [
    "dataset_handle = 'HAR70+'\n",
    "dataset_name = 'har70plus'\n",
    "processed_dir = './../../processed/'\n",
    "output_dir = f'./../../processed/{dataset_name}/'\n",
    "os.makedirs(output_dir, exist_ok=True)\n",
    "full_outp_fname = os.path.join(output_dir, f'{dataset_name}.csv')\n",
    "test_key_outp_fname = os.path.join(output_dir, f'{dataset_name}_test_key.csv')\n",
    "train_outp_fname = os.path.join(output_dir, f'{dataset_name}_train.csv')\n",
    "test_outp_fname = os.path.join(output_dir, f'{dataset_name}_test.csv')"
   ]
  },
  {
   "cell_type": "markdown",
   "metadata": {},
   "source": [
    "## Read the data"
   ]
  },
  {
   "cell_type": "code",
   "execution_count": 106,
   "metadata": {},
   "outputs": [
    {
     "name": "stdout",
     "output_type": "stream",
     "text": [
      "Extracted all files in ./data.zip to ./\n"
     ]
    }
   ],
   "source": [
    "if not os.path.exists('./data'):\n",
    "    extract_zip(f'./data.zip', './')\n",
    "\n",
    "files = os.listdir('data')\n",
    "file_paths = [os.path.join('./data/', file) for file in files]\n",
    "data = []\n",
    "for file in file_paths:\n",
    "    subject_id = int(Path(file).name.split('.')[0])\n",
    "    df = pd.read_csv(file)\n",
    "    df.insert(0, id_col, subject_id)\n",
    "    data.append(df)\n",
    "\n",
    "data = pd.concat(data)\n"
   ]
  },
  {
   "cell_type": "code",
   "execution_count": 107,
   "metadata": {},
   "outputs": [],
   "source": [
    "data[target_col] = data[target_col].astype(str)\n",
    "data[time_col] = data[time_col].astype(str)\n",
    "\n",
    "\n",
    "def quantize_df(data: pd.DataFrame , id_col:str , steps: int):\n",
    "\n",
    "    def aggregate_group(group, steps=steps):\n",
    "\n",
    "        numeric_cols = group.select_dtypes(include=[np.number]).columns\n",
    "        object_cols = group.select_dtypes(exclude=[np.number]).columns\n",
    "        \n",
    "        aggregation_functions = {col: 'mean' for col in numeric_cols}\n",
    "        aggregation_functions.update({col: lambda x: mode(x) for col in object_cols})\n",
    "        \n",
    "        grouped = group.groupby(np.arange(len(group)) // steps).agg(aggregation_functions)\n",
    "        grouped[time_col] = range(len(grouped))\n",
    "        return grouped\n",
    "\n",
    "    dfs = []\n",
    "    cols = list(data.columns.values)\n",
    "\n",
    "    data_grouped = data.groupby(id_col)\n",
    "    for name, group in data_grouped:\n",
    "        aggregated_group = aggregate_group(group)\n",
    "        dfs.append(aggregated_group)\n",
    "\n",
    "    data_quantized = pd.concat(dfs).reset_index(drop=True)\n",
    "    data_quantized = data_quantized[cols] #to keep the columns order\n",
    "    return data_quantized\n",
    "\n",
    "\n",
    "data = quantize_df(data, id_col, steps=100)"
   ]
  },
  {
   "cell_type": "markdown",
   "metadata": {},
   "source": [
    "## Train/Test split"
   ]
  },
  {
   "cell_type": "code",
   "execution_count": 108,
   "metadata": {},
   "outputs": [],
   "source": [
    "random.seed(42)\n",
    "test_size = 0.2\n",
    "subject_ids = data[id_col].unique().tolist()\n",
    "\n",
    "# Split data into train and test\n",
    "num_test_subjects = int(test_size * len(subject_ids))\n",
    "test_subjects = random.sample(subject_ids, num_test_subjects)\n",
    "train_subjects = [sid for sid in subject_ids if sid not in test_subjects]"
   ]
  },
  {
   "cell_type": "code",
   "execution_count": 109,
   "metadata": {},
   "outputs": [
    {
     "data": {
      "text/plain": [
       "([504.0, 501.0, 509.0],\n",
       " [502.0,\n",
       "  503.0,\n",
       "  505.0,\n",
       "  506.0,\n",
       "  507.0,\n",
       "  508.0,\n",
       "  510.0,\n",
       "  511.0,\n",
       "  512.0,\n",
       "  513.0,\n",
       "  514.0,\n",
       "  515.0,\n",
       "  516.0,\n",
       "  517.0,\n",
       "  518.0])"
      ]
     },
     "execution_count": 109,
     "metadata": {},
     "output_type": "execute_result"
    }
   ],
   "source": [
    "test_subjects, train_subjects"
   ]
  },
  {
   "cell_type": "code",
   "execution_count": 110,
   "metadata": {},
   "outputs": [
    {
     "data": {
      "image/png": "[encoded data removed]",
      "text/plain": [
       "<Figure size 640x480 with 1 Axes>"
      ]
     },
     "metadata": {},
     "output_type": "display_data"
    },
    {
     "data": {
      "image/png": "[encoded data removed]",
      "text/plain": [
       "<Figure size 640x480 with 1 Axes>"
      ]
     },
     "metadata": {},
     "output_type": "display_data"
    }
   ],
   "source": [
    "train_df = data[data[id_col].isin(train_subjects)]\n",
    "test_df = data[data[id_col].isin(test_subjects)]\n",
    "\n",
    "train_df['label'].value_counts().plot(kind='bar')\n",
    "plt.title('Train labels distribution')\n",
    "plt.show()\n",
    "\n",
    "test_df['label'].value_counts().plot(kind='bar')\n",
    "plt.title('Test labels distribution')\n",
    "plt.show()\n",
    "\n",
    "test_key = test_df[[id_col, time_col, target_col]]\n",
    "test_df = test_df.drop(columns=[target_col])"
   ]
  },
  {
   "cell_type": "markdown",
   "metadata": {},
   "source": [
    "## Save data"
   ]
  },
  {
   "cell_type": "code",
   "execution_count": 111,
   "metadata": {},
   "outputs": [],
   "source": [
    "data.to_csv(full_outp_fname, index=False)\n",
    "train_df.to_csv(train_outp_fname, index=False)\n",
    "test_df.to_csv(test_outp_fname, index=False)\n",
    "test_key.to_csv(test_key_outp_fname, index=False)"
   ]
  }
 ],
 "metadata": {
  "kernelspec": {
   "display_name": ".venv",
   "language": "python",
   "name": "python3"
  },
  "language_info": {
   "codemirror_mode": {
    "name": "ipython",
    "version": 3
   },
   "file_extension": ".py",
   "mimetype": "text/x-python",
   "name": "python",
   "nbconvert_exporter": "python",
   "pygments_lexer": "ipython3",
   "version": "3.11.0"
  }
 },
 "nbformat": 4,
 "nbformat_minor": 2
}
