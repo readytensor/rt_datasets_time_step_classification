{
 "cells": [
  {
   "cell_type": "code",
   "execution_count": 34,
   "metadata": {},
   "outputs": [],
   "source": [
    "import os\n",
    "import random\n",
    "import numpy as np\n",
    "import pandas as pd\n",
    "from io import StringIO"
   ]
  },
  {
   "cell_type": "code",
   "execution_count": 35,
   "metadata": {},
   "outputs": [],
   "source": [
    "target_col = 'activity_id'\n",
    "id_col = 'subject_id'\n",
    "time_col = 'timestamp'"
   ]
  },
  {
   "cell_type": "code",
   "execution_count": 36,
   "metadata": {},
   "outputs": [],
   "source": [
    "dataset_name = 'pamap2'\n",
    "output_dir = f'./../../processed/{dataset_name}/'\n",
    "os.makedirs(output_dir, exist_ok=True)\n",
    "outp_fname = os.path.join(output_dir, f'{dataset_name}.csv')\n",
    "train_fname = os.path.join(output_dir, f'{dataset_name}_train.csv')\n",
    "test_fname = os.path.join(output_dir, f'{dataset_name}_test.csv')\n",
    "test_key_fname = os.path.join(output_dir, f'{dataset_name}_test_key.csv')"
   ]
  },
  {
   "cell_type": "code",
   "execution_count": 37,
   "metadata": {},
   "outputs": [],
   "source": [
    "imu_sensors = ['hand', 'chest', 'ankle']\n",
    "imu_features = ['temperature (c)', 'x-acc16g', 'y-acc16g', 'z-acc16g', 'x-acc6g', 'y-acc6g', 'z-acc6g', 'x-gyro', 'y-gyro', 'z-gyro', 'x-mag', 'y-mag', 'z-mag', 'orientation1', 'orientation2', 'orientation3', 'orientation4']\n",
    "all_imu_features = [f'{sensor}_{feature}' for sensor in imu_sensors for feature in imu_features]\n",
    "features = ['timestamp', 'activity_id', 'heart_rate'] + all_imu_features"
   ]
  },
  {
   "cell_type": "code",
   "execution_count": 38,
   "metadata": {},
   "outputs": [
    {
     "data": {
      "text/plain": [
       "['Protocol/subject108.dat',\n",
       " 'Protocol/subject109.dat',\n",
       " 'Protocol/subject107.dat',\n",
       " 'Protocol/subject106.dat',\n",
       " 'Protocol/subject104.dat',\n",
       " 'Protocol/subject105.dat',\n",
       " 'Protocol/subject101.dat',\n",
       " 'Protocol/subject102.dat',\n",
       " 'Protocol/subject103.dat']"
      ]
     },
     "execution_count": 38,
     "metadata": {},
     "output_type": "execute_result"
    }
   ],
   "source": [
    "input_files = [os.path.join('Protocol', i) for i in os.listdir('Protocol') if i.endswith('.dat')]\n",
    "input_files"
   ]
  },
  {
   "cell_type": "code",
   "execution_count": 39,
   "metadata": {},
   "outputs": [],
   "source": [
    "dfs = []\n",
    "for file in input_files:\n",
    "    with open(file, 'r') as f:\n",
    "        lines = f.readlines()\n",
    "\n",
    "    data_str = '\\n'.join(lines)\n",
    "    data_io = StringIO(data_str)\n",
    "    df = pd.read_csv(data_io, sep=\" \", header=None)\n",
    "    df.columns = features\n",
    "    \n",
    "\n",
    "    orientation_features = [i for i in df.columns if 'orientation' in i]\n",
    "    df.drop(columns=orientation_features, inplace=True)\n",
    "\n",
    "    acc6g_features = [i for i in df.columns if 'acc6g' in i]\n",
    "    df.drop(columns=acc6g_features, inplace=True)\n",
    "\n",
    "    df.bfill(inplace=True)\n",
    "\n",
    "    subject_id = int(file.split('/')[1].split('.')[0].split('subject')[1][-1])\n",
    "    df.insert(0, id_col, subject_id)\n",
    "    dfs.append(df)\n"
   ]
  },
  {
   "cell_type": "code",
   "execution_count": 40,
   "metadata": {},
   "outputs": [],
   "source": [
    "data = pd.concat(dfs)\n",
    "data.sort_values(by=['subject_id', 'timestamp'], inplace=True)"
   ]
  },
  {
   "cell_type": "code",
   "execution_count": 43,
   "metadata": {},
   "outputs": [
    {
     "data": {
      "text/plain": [
       "13"
      ]
     },
     "execution_count": 43,
     "metadata": {},
     "output_type": "execute_result"
    }
   ],
   "source": [
    "data[target_col].nunique()"
   ]
  },
  {
   "cell_type": "code",
   "execution_count": 23,
   "metadata": {},
   "outputs": [
    {
     "data": {
      "text/plain": [
       "subject_id\n",
       "1.0    2500\n",
       "2.0    2634\n",
       "3.0    1744\n",
       "4.0    2315\n",
       "5.0    2725\n",
       "6.0    2501\n",
       "7.0    2328\n",
       "8.0    2622\n",
       "9.0      64\n",
       "Name: count, dtype: int64"
      ]
     },
     "execution_count": 23,
     "metadata": {},
     "output_type": "execute_result"
    }
   ],
   "source": [
    "from statistics import mode\n",
    "\n",
    "data[target_col] = data[target_col].astype(str)\n",
    "data[time_col] = data[time_col].astype(str)\n",
    "\n",
    "\n",
    "def quantize_df(data: pd.DataFrame , id_col:str , steps: int):\n",
    "\n",
    "    def aggregate_group(group, steps=steps):\n",
    "\n",
    "        numeric_cols = group.select_dtypes(include=[np.number]).columns\n",
    "        object_cols = group.select_dtypes(exclude=[np.number]).columns\n",
    "        \n",
    "        aggregation_functions = {col: 'mean' for col in numeric_cols}\n",
    "        aggregation_functions.update({col: lambda x: mode(x) for col in object_cols})\n",
    "        \n",
    "        grouped = group.groupby(np.arange(len(group)) // steps).agg(aggregation_functions)\n",
    "        grouped[time_col] = range(len(grouped))\n",
    "        return grouped\n",
    "\n",
    "    dfs = []\n",
    "    cols = list(data.columns.values)\n",
    "\n",
    "    data_grouped = data.groupby(id_col)\n",
    "    for name, group in data_grouped:\n",
    "        aggregated_group = aggregate_group(group)\n",
    "        dfs.append(aggregated_group)\n",
    "\n",
    "    data_quantized = pd.concat(dfs).reset_index(drop=True)\n",
    "    data_quantized = data_quantized[cols] #to keep the columns order\n",
    "    return data_quantized\n",
    "\n",
    "\n",
    "data_quantized = quantize_df(data, id_col, steps=100)\n",
    "data_quantized[id_col].value_counts().sort_index()"
   ]
  },
  {
   "cell_type": "code",
   "execution_count": 24,
   "metadata": {},
   "outputs": [
    {
     "data": {
      "text/plain": [
       "<Axes: xlabel='subject_id'>"
      ]
     },
     "execution_count": 24,
     "metadata": {},
     "output_type": "execute_result"
    },
    {
     "data": {
      "image/png": "[encoded data removed]",
      "text/plain": [
       "<Figure size 640x480 with 1 Axes>"
      ]
     },
     "metadata": {},
     "output_type": "display_data"
    }
   ],
   "source": [
    "data_quantized[id_col].value_counts().sort_index().plot(kind='bar')"
   ]
  },
  {
   "cell_type": "code",
   "execution_count": 25,
   "metadata": {},
   "outputs": [
    {
     "name": "stdout",
     "output_type": "stream",
     "text": [
      "Subject 1.0 has all labels\n",
      "Subject 2.0 has all labels\n",
      "Subject 5.0 has all labels\n",
      "Subject 6.0 has all labels\n",
      "Subject 8.0 has all labels\n"
     ]
    }
   ],
   "source": [
    "has_all_labels = []\n",
    "labels = data_quantized[target_col].unique()\n",
    "grouped = data_quantized.groupby(id_col)\n",
    "for id, group in grouped:\n",
    "    if group[target_col].nunique() == len(labels):\n",
    "        print(f'Subject {id} has all labels')\n",
    "        has_all_labels.append(id)\n"
   ]
  },
  {
   "cell_type": "code",
   "execution_count": 26,
   "metadata": {},
   "outputs": [
    {
     "data": {
      "text/plain": [
       "([2.0, 3.0, 4.0, 5.0, 6.0, 7.0, 9.0], [1.0, 8.0])"
      ]
     },
     "execution_count": 26,
     "metadata": {},
     "output_type": "execute_result"
    }
   ],
   "source": [
    "random.seed(42)\n",
    "test_ids = random.sample(has_all_labels, 2)\n",
    "train_ids = [i for i in data_quantized[id_col].unique() if i not in test_ids]\n",
    "\n",
    "train_ids, test_ids"
   ]
  },
  {
   "cell_type": "code",
   "execution_count": 27,
   "metadata": {},
   "outputs": [],
   "source": [
    "train_df = data_quantized[data_quantized[id_col].isin(train_ids)].copy()\n",
    "test_df = data_quantized[data_quantized[id_col].isin(test_ids)].copy()\n",
    "\n",
    "test_key = test_df[[id_col, time_col, target_col]].copy()\n",
    "test_df.drop(columns=[target_col], inplace=True)\n",
    "\n"
   ]
  },
  {
   "cell_type": "code",
   "execution_count": 28,
   "metadata": {},
   "outputs": [],
   "source": [
    "data_quantized.to_csv(outp_fname, index=False)\n",
    "train_df.to_csv(train_fname, index=False)\n",
    "test_df.to_csv(test_fname, index=False)\n",
    "test_key.to_csv(test_key_fname, index=False)"
   ]
  }
 ],
 "metadata": {
  "kernelspec": {
   "display_name": ".venv",
   "language": "python",
   "name": "python3"
  },
  "language_info": {
   "codemirror_mode": {
    "name": "ipython",
    "version": 3
   },
   "file_extension": ".py",
   "mimetype": "text/x-python",
   "name": "python",
   "nbconvert_exporter": "python",
   "pygments_lexer": "ipython3",
   "version": "3.11.0"
  }
 },
 "nbformat": 4,
 "nbformat_minor": 2
}
