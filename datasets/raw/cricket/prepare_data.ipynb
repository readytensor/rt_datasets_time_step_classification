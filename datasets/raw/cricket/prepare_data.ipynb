{
 "cells": [
  {
   "cell_type": "code",
   "execution_count": 9,
   "metadata": {},
   "outputs": [],
   "source": [
    "import os\n",
    "import numpy as np\n",
    "import pandas as pd\n",
    "from sktime.datasets import load_UCR_UEA_dataset\n",
    "from sktime.datasets import tsc_dataset_names"
   ]
  },
  {
   "cell_type": "code",
   "execution_count": 10,
   "metadata": {},
   "outputs": [
    {
     "data": {
      "text/plain": [
       "['ArticularyWordRecognition',\n",
       " 'AsphaltObstaclesCoordinates',\n",
       " 'AsphaltPavementTypeCoordinates',\n",
       " 'AsphaltRegularityCoordinates',\n",
       " 'AtrialFibrillation']"
      ]
     },
     "execution_count": 10,
     "metadata": {},
     "output_type": "execute_result"
    }
   ],
   "source": [
    "tsc_dataset_names.multivariate[0:5]"
   ]
  },
  {
   "cell_type": "code",
   "execution_count": 11,
   "metadata": {},
   "outputs": [],
   "source": [
    "dataset_handle = 'Cricket'\n",
    "dataset_name = 'cricket'\n",
    "processed_dir = './../../processed/'\n",
    "output_dir = f'./../../processed/{dataset_name}/'\n",
    "os.makedirs(output_dir, exist_ok=True)\n",
    "full_outp_fname = os.path.join(output_dir, f'{dataset_name}.csv')\n",
    "test_key_outp_fname = os.path.join(output_dir, f'{dataset_name}_test_key.csv')\n",
    "train_outp_fname = os.path.join(output_dir, f'{dataset_name}_train.csv')\n",
    "test_outp_fname = os.path.join(output_dir, f'{dataset_name}_test.csv')\n",
    "\n"
   ]
  },
  {
   "cell_type": "markdown",
   "metadata": {},
   "source": [
    "## Load training data"
   ]
  },
  {
   "cell_type": "code",
   "execution_count": 12,
   "metadata": {},
   "outputs": [],
   "source": [
    "X_train, y_train = load_UCR_UEA_dataset(name=dataset_handle, split='TRAIN')\n",
    "X_test, y_test = load_UCR_UEA_dataset(name=dataset_handle, split='TEST')"
   ]
  },
  {
   "cell_type": "code",
   "execution_count": 13,
   "metadata": {},
   "outputs": [],
   "source": [
    "def prepare_dataset(X, y):\n",
    "    df = {}\n",
    "    label_column = []\n",
    "    for i, row in X.iterrows():\n",
    "        label = y[i]\n",
    "        for column in X.columns:\n",
    "            series_values = row[column].tolist()\n",
    "            if column in df:\n",
    "                df[column].extend(series_values)\n",
    "            else:\n",
    "                df[column] = series_values\n",
    "        label_column += [label] * len(series_values)\n",
    "\n",
    "    df['label'] = label_column\n",
    "    df = pd.DataFrame(df)\n",
    "    df.insert(0, 'series_id', 0)\n",
    "    timestep = list(range(len(df)))\n",
    "    df.insert(1, 'timestep', timestep)\n",
    "\n",
    "    return df\n",
    "\n",
    "            \n"
   ]
  },
  {
   "cell_type": "code",
   "execution_count": 14,
   "metadata": {},
   "outputs": [],
   "source": [
    "train_df = prepare_dataset(X_train, y_train)\n",
    "test_df = prepare_dataset(X_test, y_test)\n",
    "full = pd.concat([train_df, test_df])\n",
    "\n",
    "test_key_df = test_df[['series_id', 'timestep', 'label']]\n",
    "test_df.drop(columns=['label'], inplace=True)"
   ]
  },
  {
   "cell_type": "code",
   "execution_count": 15,
   "metadata": {},
   "outputs": [
    {
     "data": {
      "text/html": [
       "<div>\n",
       "<style scoped>\n",
       "    .dataframe tbody tr th:only-of-type {\n",
       "        vertical-align: middle;\n",
       "    }\n",
       "\n",
       "    .dataframe tbody tr th {\n",
       "        vertical-align: top;\n",
       "    }\n",
       "\n",
       "    .dataframe thead th {\n",
       "        text-align: right;\n",
       "    }\n",
       "</style>\n",
       "<table border=\"1\" class=\"dataframe\">\n",
       "  <thead>\n",
       "    <tr style=\"text-align: right;\">\n",
       "      <th></th>\n",
       "      <th>series_id</th>\n",
       "      <th>timestep</th>\n",
       "      <th>dim_0</th>\n",
       "      <th>dim_1</th>\n",
       "      <th>dim_2</th>\n",
       "      <th>dim_3</th>\n",
       "      <th>dim_4</th>\n",
       "      <th>dim_5</th>\n",
       "      <th>label</th>\n",
       "    </tr>\n",
       "  </thead>\n",
       "  <tbody>\n",
       "    <tr>\n",
       "      <th>0</th>\n",
       "      <td>0</td>\n",
       "      <td>0</td>\n",
       "      <td>-0.97211</td>\n",
       "      <td>-0.23077</td>\n",
       "      <td>-0.46863</td>\n",
       "      <td>-0.57729</td>\n",
       "      <td>0.29993</td>\n",
       "      <td>-0.44158</td>\n",
       "      <td>1.0</td>\n",
       "    </tr>\n",
       "    <tr>\n",
       "      <th>1</th>\n",
       "      <td>0</td>\n",
       "      <td>1</td>\n",
       "      <td>-0.95768</td>\n",
       "      <td>-0.23077</td>\n",
       "      <td>-0.43983</td>\n",
       "      <td>-0.75975</td>\n",
       "      <td>0.31719</td>\n",
       "      <td>-0.40136</td>\n",
       "      <td>1.0</td>\n",
       "    </tr>\n",
       "    <tr>\n",
       "      <th>2</th>\n",
       "      <td>0</td>\n",
       "      <td>2</td>\n",
       "      <td>-0.95901</td>\n",
       "      <td>-0.23077</td>\n",
       "      <td>-0.45135</td>\n",
       "      <td>-0.80110</td>\n",
       "      <td>0.33099</td>\n",
       "      <td>-0.39331</td>\n",
       "      <td>1.0</td>\n",
       "    </tr>\n",
       "    <tr>\n",
       "      <th>3</th>\n",
       "      <td>0</td>\n",
       "      <td>3</td>\n",
       "      <td>-0.95901</td>\n",
       "      <td>-0.23077</td>\n",
       "      <td>-0.45135</td>\n",
       "      <td>-0.85827</td>\n",
       "      <td>0.34135</td>\n",
       "      <td>-0.39331</td>\n",
       "      <td>1.0</td>\n",
       "    </tr>\n",
       "    <tr>\n",
       "      <th>4</th>\n",
       "      <td>0</td>\n",
       "      <td>4</td>\n",
       "      <td>-0.95035</td>\n",
       "      <td>-0.23077</td>\n",
       "      <td>-0.48591</td>\n",
       "      <td>-0.86314</td>\n",
       "      <td>0.35170</td>\n",
       "      <td>-0.40538</td>\n",
       "      <td>1.0</td>\n",
       "    </tr>\n",
       "    <tr>\n",
       "      <th>...</th>\n",
       "      <td>...</td>\n",
       "      <td>...</td>\n",
       "      <td>...</td>\n",
       "      <td>...</td>\n",
       "      <td>...</td>\n",
       "      <td>...</td>\n",
       "      <td>...</td>\n",
       "      <td>...</td>\n",
       "      <td>...</td>\n",
       "    </tr>\n",
       "    <tr>\n",
       "      <th>129271</th>\n",
       "      <td>0</td>\n",
       "      <td>129271</td>\n",
       "      <td>-0.69274</td>\n",
       "      <td>-0.62841</td>\n",
       "      <td>-0.65053</td>\n",
       "      <td>-0.68377</td>\n",
       "      <td>0.79428</td>\n",
       "      <td>-0.77377</td>\n",
       "      <td>12.0</td>\n",
       "    </tr>\n",
       "    <tr>\n",
       "      <th>129272</th>\n",
       "      <td>0</td>\n",
       "      <td>129272</td>\n",
       "      <td>-0.68128</td>\n",
       "      <td>-0.62841</td>\n",
       "      <td>-0.67173</td>\n",
       "      <td>-0.68377</td>\n",
       "      <td>0.81896</td>\n",
       "      <td>-0.77377</td>\n",
       "      <td>12.0</td>\n",
       "    </tr>\n",
       "    <tr>\n",
       "      <th>129273</th>\n",
       "      <td>0</td>\n",
       "      <td>129273</td>\n",
       "      <td>-0.68128</td>\n",
       "      <td>-0.62841</td>\n",
       "      <td>-0.67173</td>\n",
       "      <td>-0.68377</td>\n",
       "      <td>0.84363</td>\n",
       "      <td>-0.77377</td>\n",
       "      <td>12.0</td>\n",
       "    </tr>\n",
       "    <tr>\n",
       "      <th>129274</th>\n",
       "      <td>0</td>\n",
       "      <td>129274</td>\n",
       "      <td>-0.66982</td>\n",
       "      <td>-0.62841</td>\n",
       "      <td>-0.69293</td>\n",
       "      <td>-0.68377</td>\n",
       "      <td>0.84363</td>\n",
       "      <td>-0.77377</td>\n",
       "      <td>12.0</td>\n",
       "    </tr>\n",
       "    <tr>\n",
       "      <th>129275</th>\n",
       "      <td>0</td>\n",
       "      <td>129275</td>\n",
       "      <td>-0.66982</td>\n",
       "      <td>-0.62841</td>\n",
       "      <td>-0.69293</td>\n",
       "      <td>-0.68377</td>\n",
       "      <td>0.84363</td>\n",
       "      <td>-0.77377</td>\n",
       "      <td>12.0</td>\n",
       "    </tr>\n",
       "  </tbody>\n",
       "</table>\n",
       "<p>129276 rows × 9 columns</p>\n",
       "</div>"
      ],
      "text/plain": [
       "        series_id  timestep    dim_0    dim_1    dim_2    dim_3    dim_4  \\\n",
       "0               0         0 -0.97211 -0.23077 -0.46863 -0.57729  0.29993   \n",
       "1               0         1 -0.95768 -0.23077 -0.43983 -0.75975  0.31719   \n",
       "2               0         2 -0.95901 -0.23077 -0.45135 -0.80110  0.33099   \n",
       "3               0         3 -0.95901 -0.23077 -0.45135 -0.85827  0.34135   \n",
       "4               0         4 -0.95035 -0.23077 -0.48591 -0.86314  0.35170   \n",
       "...           ...       ...      ...      ...      ...      ...      ...   \n",
       "129271          0    129271 -0.69274 -0.62841 -0.65053 -0.68377  0.79428   \n",
       "129272          0    129272 -0.68128 -0.62841 -0.67173 -0.68377  0.81896   \n",
       "129273          0    129273 -0.68128 -0.62841 -0.67173 -0.68377  0.84363   \n",
       "129274          0    129274 -0.66982 -0.62841 -0.69293 -0.68377  0.84363   \n",
       "129275          0    129275 -0.66982 -0.62841 -0.69293 -0.68377  0.84363   \n",
       "\n",
       "          dim_5 label  \n",
       "0      -0.44158   1.0  \n",
       "1      -0.40136   1.0  \n",
       "2      -0.39331   1.0  \n",
       "3      -0.39331   1.0  \n",
       "4      -0.40538   1.0  \n",
       "...         ...   ...  \n",
       "129271 -0.77377  12.0  \n",
       "129272 -0.77377  12.0  \n",
       "129273 -0.77377  12.0  \n",
       "129274 -0.77377  12.0  \n",
       "129275 -0.77377  12.0  \n",
       "\n",
       "[129276 rows x 9 columns]"
      ]
     },
     "execution_count": 15,
     "metadata": {},
     "output_type": "execute_result"
    }
   ],
   "source": [
    "train_df"
   ]
  },
  {
   "cell_type": "code",
   "execution_count": 16,
   "metadata": {},
   "outputs": [],
   "source": [
    "full.to_csv(full_outp_fname, index=False)\n",
    "test_key_df.to_csv(test_key_outp_fname, index=False)\n",
    "train_df.to_csv(train_outp_fname, index=False)\n",
    "test_df.to_csv(test_outp_fname, index=False)"
   ]
  },
  {
   "cell_type": "code",
   "execution_count": 17,
   "metadata": {},
   "outputs": [
    {
     "data": {
      "text/plain": [
       "0      -0.97211\n",
       "1      -0.95768\n",
       "2      -0.95901\n",
       "3      -0.95901\n",
       "4      -0.95035\n",
       "         ...   \n",
       "1192   -0.95480\n",
       "1193   -0.96345\n",
       "1194   -0.96345\n",
       "1195   -0.97211\n",
       "1196   -0.97211\n",
       "Length: 1197, dtype: float64"
      ]
     },
     "execution_count": 17,
     "metadata": {},
     "output_type": "execute_result"
    }
   ],
   "source": [
    "X_train['dim_0'].iloc[0]"
   ]
  },
  {
   "cell_type": "code",
   "execution_count": null,
   "metadata": {},
   "outputs": [],
   "source": []
  }
 ],
 "metadata": {
  "kernelspec": {
   "display_name": ".venv",
   "language": "python",
   "name": "python3"
  },
  "language_info": {
   "codemirror_mode": {
    "name": "ipython",
    "version": 3
   },
   "file_extension": ".py",
   "mimetype": "text/x-python",
   "name": "python",
   "nbconvert_exporter": "python",
   "pygments_lexer": "ipython3",
   "version": "3.11.0"
  }
 },
 "nbformat": 4,
 "nbformat_minor": 2
}
