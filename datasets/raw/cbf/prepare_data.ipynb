{
 "cells": [
  {
   "cell_type": "code",
   "execution_count": 49,
   "metadata": {},
   "outputs": [],
   "source": [
    "import os\n",
    "import numpy as np\n",
    "import pandas as pd\n",
    "from sktime.datasets import load_UCR_UEA_dataset\n",
    "from sktime.datasets import tsc_dataset_names\n",
    "import matplotlib.pyplot as plt"
   ]
  },
  {
   "cell_type": "code",
   "execution_count": 50,
   "metadata": {},
   "outputs": [
    {
     "data": {
      "text/plain": [
       "True"
      ]
     },
     "execution_count": 50,
     "metadata": {},
     "output_type": "execute_result"
    }
   ],
   "source": [
    "'CBF' in tsc_dataset_names.univariate"
   ]
  },
  {
   "cell_type": "code",
   "execution_count": 51,
   "metadata": {},
   "outputs": [],
   "source": [
    "dataset_handle = 'CBF'\n",
    "dataset_name = 'cbf'\n",
    "processed_dir = './../../processed/'\n",
    "output_dir = f'./../../processed/{dataset_name}/'\n",
    "os.makedirs(output_dir, exist_ok=True)\n",
    "full_outp_fname = os.path.join(output_dir, f'{dataset_name}.csv')\n",
    "test_key_outp_fname = os.path.join(output_dir, f'{dataset_name}_test_key.csv')\n",
    "train_outp_fname = os.path.join(output_dir, f'{dataset_name}_train.csv')\n",
    "test_outp_fname = os.path.join(output_dir, f'{dataset_name}_test.csv')\n",
    "\n"
   ]
  },
  {
   "cell_type": "markdown",
   "metadata": {},
   "source": [
    "## Load training data"
   ]
  },
  {
   "cell_type": "code",
   "execution_count": 52,
   "metadata": {},
   "outputs": [],
   "source": [
    "X_train, y_train = load_UCR_UEA_dataset(name=dataset_handle, split='TRAIN')\n",
    "X_test, y_test = load_UCR_UEA_dataset(name=dataset_handle, split='TEST')"
   ]
  },
  {
   "cell_type": "code",
   "execution_count": 53,
   "metadata": {},
   "outputs": [],
   "source": [
    "def prepare_dataset(X, y):\n",
    "    df = {}\n",
    "    label_column = []\n",
    "    for i, row in X.iterrows():\n",
    "        label = y[i]\n",
    "        for column in X.columns:\n",
    "            series_values = row[column].tolist()\n",
    "            if column in df:\n",
    "                df[column].extend(series_values)\n",
    "            else:\n",
    "                df[column] = series_values\n",
    "        label_column += [label] * len(series_values)\n",
    "\n",
    "    df['label'] = label_column\n",
    "    df = pd.DataFrame(df)\n",
    "    df.insert(0, 'series_id', 0)\n",
    "    timestep = list(range(len(df)))\n",
    "    df.insert(1, 'timestep', timestep)\n",
    "\n",
    "    return df\n",
    "\n",
    "            \n"
   ]
  },
  {
   "cell_type": "code",
   "execution_count": 54,
   "metadata": {},
   "outputs": [],
   "source": [
    "train_df = prepare_dataset(X_train, y_train)\n",
    "test_df = prepare_dataset(X_test, y_test)\n",
    "\n",
    "full = pd.concat([train_df, test_df])\n",
    "\n",
    "\n",
    "test_key_df = test_df[['series_id', 'timestep', 'label']]\n",
    "test_df.drop(columns=['label'], inplace=True)"
   ]
  },
  {
   "cell_type": "code",
   "execution_count": 55,
   "metadata": {},
   "outputs": [
    {
     "data": {
      "text/html": [
       "<div>\n",
       "<style scoped>\n",
       "    .dataframe tbody tr th:only-of-type {\n",
       "        vertical-align: middle;\n",
       "    }\n",
       "\n",
       "    .dataframe tbody tr th {\n",
       "        vertical-align: top;\n",
       "    }\n",
       "\n",
       "    .dataframe thead th {\n",
       "        text-align: right;\n",
       "    }\n",
       "</style>\n",
       "<table border=\"1\" class=\"dataframe\">\n",
       "  <thead>\n",
       "    <tr style=\"text-align: right;\">\n",
       "      <th></th>\n",
       "      <th>series_id</th>\n",
       "      <th>timestep</th>\n",
       "      <th>dim_0</th>\n",
       "      <th>label</th>\n",
       "    </tr>\n",
       "  </thead>\n",
       "  <tbody>\n",
       "    <tr>\n",
       "      <th>0</th>\n",
       "      <td>0</td>\n",
       "      <td>0</td>\n",
       "      <td>-0.464276</td>\n",
       "      <td>1</td>\n",
       "    </tr>\n",
       "    <tr>\n",
       "      <th>1</th>\n",
       "      <td>0</td>\n",
       "      <td>1</td>\n",
       "      <td>-0.555048</td>\n",
       "      <td>1</td>\n",
       "    </tr>\n",
       "    <tr>\n",
       "      <th>2</th>\n",
       "      <td>0</td>\n",
       "      <td>2</td>\n",
       "      <td>-0.842843</td>\n",
       "      <td>1</td>\n",
       "    </tr>\n",
       "    <tr>\n",
       "      <th>3</th>\n",
       "      <td>0</td>\n",
       "      <td>3</td>\n",
       "      <td>-0.865895</td>\n",
       "      <td>1</td>\n",
       "    </tr>\n",
       "    <tr>\n",
       "      <th>4</th>\n",
       "      <td>0</td>\n",
       "      <td>4</td>\n",
       "      <td>-0.936396</td>\n",
       "      <td>1</td>\n",
       "    </tr>\n",
       "    <tr>\n",
       "      <th>...</th>\n",
       "      <td>...</td>\n",
       "      <td>...</td>\n",
       "      <td>...</td>\n",
       "      <td>...</td>\n",
       "    </tr>\n",
       "    <tr>\n",
       "      <th>3835</th>\n",
       "      <td>0</td>\n",
       "      <td>3835</td>\n",
       "      <td>-1.218196</td>\n",
       "      <td>1</td>\n",
       "    </tr>\n",
       "    <tr>\n",
       "      <th>3836</th>\n",
       "      <td>0</td>\n",
       "      <td>3836</td>\n",
       "      <td>-1.225446</td>\n",
       "      <td>1</td>\n",
       "    </tr>\n",
       "    <tr>\n",
       "      <th>3837</th>\n",
       "      <td>0</td>\n",
       "      <td>3837</td>\n",
       "      <td>-1.170861</td>\n",
       "      <td>1</td>\n",
       "    </tr>\n",
       "    <tr>\n",
       "      <th>3838</th>\n",
       "      <td>0</td>\n",
       "      <td>3838</td>\n",
       "      <td>-1.325109</td>\n",
       "      <td>1</td>\n",
       "    </tr>\n",
       "    <tr>\n",
       "      <th>3839</th>\n",
       "      <td>0</td>\n",
       "      <td>3839</td>\n",
       "      <td>-0.894582</td>\n",
       "      <td>1</td>\n",
       "    </tr>\n",
       "  </tbody>\n",
       "</table>\n",
       "<p>3840 rows × 4 columns</p>\n",
       "</div>"
      ],
      "text/plain": [
       "      series_id  timestep     dim_0 label\n",
       "0             0         0 -0.464276     1\n",
       "1             0         1 -0.555048     1\n",
       "2             0         2 -0.842843     1\n",
       "3             0         3 -0.865895     1\n",
       "4             0         4 -0.936396     1\n",
       "...         ...       ...       ...   ...\n",
       "3835          0      3835 -1.218196     1\n",
       "3836          0      3836 -1.225446     1\n",
       "3837          0      3837 -1.170861     1\n",
       "3838          0      3838 -1.325109     1\n",
       "3839          0      3839 -0.894582     1\n",
       "\n",
       "[3840 rows x 4 columns]"
      ]
     },
     "execution_count": 55,
     "metadata": {},
     "output_type": "execute_result"
    }
   ],
   "source": [
    "train_df"
   ]
  },
  {
   "cell_type": "code",
   "execution_count": 56,
   "metadata": {},
   "outputs": [],
   "source": [
    "full.to_csv(full_outp_fname, index=False)\n",
    "test_key_df.to_csv(test_key_outp_fname, index=False)\n",
    "train_df.to_csv(train_outp_fname, index=False)\n",
    "test_df.to_csv(test_outp_fname, index=False)"
   ]
  },
  {
   "cell_type": "code",
   "execution_count": 57,
   "metadata": {},
   "outputs": [
    {
     "data": {
      "text/plain": [
       "[<matplotlib.lines.Line2D at 0x35090a050>]"
      ]
     },
     "execution_count": 57,
     "metadata": {},
     "output_type": "execute_result"
    },
    {
     "data": {
      "image/png": "[encoded data removed]",
      "text/plain": [
       "<Figure size 2000x800 with 1 Axes>"
      ]
     },
     "metadata": {},
     "output_type": "display_data"
    }
   ],
   "source": [
    "plt.figure(figsize=(20,8))\n",
    "plt.plot(train_df['label'])"
   ]
  },
  {
   "cell_type": "code",
   "execution_count": null,
   "metadata": {},
   "outputs": [],
   "source": []
  }
 ],
 "metadata": {
  "kernelspec": {
   "display_name": ".venv",
   "language": "python",
   "name": "python3"
  },
  "language_info": {
   "codemirror_mode": {
    "name": "ipython",
    "version": 3
   },
   "file_extension": ".py",
   "mimetype": "text/x-python",
   "name": "python",
   "nbconvert_exporter": "python",
   "pygments_lexer": "ipython3",
   "version": "3.11.0"
  }
 },
 "nbformat": 4,
 "nbformat_minor": 2
}
