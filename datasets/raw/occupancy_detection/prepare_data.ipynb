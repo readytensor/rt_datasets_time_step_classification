{
 "cells": [
  {
   "cell_type": "code",
   "execution_count": 14,
   "metadata": {},
   "outputs": [],
   "source": [
    "import os\n",
    "import pandas as pd\n",
    "from ucimlrepo import fetch_ucirepo "
   ]
  },
  {
   "cell_type": "markdown",
   "metadata": {},
   "source": [
    "## Room Detection"
   ]
  },
  {
   "cell_type": "code",
   "execution_count": 15,
   "metadata": {},
   "outputs": [],
   "source": [
    "id_col = 'id'\n",
    "time_col = 'date'\n",
    "target_col = 'Occupancy'"
   ]
  },
  {
   "cell_type": "code",
   "execution_count": 16,
   "metadata": {},
   "outputs": [],
   "source": [
    "dataset_handle = 'OccupancyDetection'\n",
    "dataset_name = 'occupancy_detection'\n",
    "processed_dir = './../../processed/'\n",
    "output_dir = f'./../../processed/{dataset_name}/'\n",
    "os.makedirs(output_dir, exist_ok=True)\n",
    "full_outp_fname = os.path.join(output_dir, f'{dataset_name}.csv')\n",
    "test_key_outp_fname = os.path.join(output_dir, f'{dataset_name}_test_key.csv')\n",
    "train_outp_fname = os.path.join(output_dir, f'{dataset_name}_train.csv')\n",
    "test_outp_fname = os.path.join(output_dir, f'{dataset_name}_test.csv')"
   ]
  },
  {
   "cell_type": "markdown",
   "metadata": {},
   "source": [
    "## Download dataset"
   ]
  },
  {
   "cell_type": "code",
   "execution_count": 17,
   "metadata": {},
   "outputs": [],
   "source": [
    "# fetch dataset \n",
    "occupancy_detection = fetch_ucirepo(id=357) \n",
    "  \n",
    "# data (as pandas dataframes) \n",
    "X = occupancy_detection.data.features \n",
    "y = occupancy_detection.data.targets \n",
    "\n",
    "data = X.copy()\n",
    "data[target_col] = y\n",
    "data = data.sort_values(by=[time_col])"
   ]
  },
  {
   "cell_type": "markdown",
   "metadata": {},
   "source": [
    "## Insert id column"
   ]
  },
  {
   "cell_type": "code",
   "execution_count": 18,
   "metadata": {},
   "outputs": [],
   "source": [
    "data.insert(0, id_col, 0)"
   ]
  },
  {
   "cell_type": "code",
   "execution_count": 19,
   "metadata": {},
   "outputs": [],
   "source": [
    "data.dropna(inplace=True)"
   ]
  },
  {
   "cell_type": "markdown",
   "metadata": {},
   "source": [
    "## Train/Test split"
   ]
  },
  {
   "cell_type": "code",
   "execution_count": 20,
   "metadata": {},
   "outputs": [],
   "source": [
    "size = data.shape[0]\n",
    "test_split = 0.2\n",
    "\n",
    "train_size = int(size * (1 - test_split))\n",
    "test_size = size - train_size\n",
    "\n",
    "train = data.iloc[:train_size]\n",
    "test = data.iloc[train_size:]\n",
    "\n",
    "test_key = test[[id_col, target_col]]\n",
    "test = test.drop(target_col, axis=1)\n"
   ]
  },
  {
   "cell_type": "code",
   "execution_count": 21,
   "metadata": {},
   "outputs": [],
   "source": [
    "data.to_csv(full_outp_fname, index=False)\n",
    "train.to_csv(train_outp_fname, index=False)\n",
    "test.to_csv(test_outp_fname, index=False)\n",
    "test_key.to_csv(test_key_outp_fname, index=False)"
   ]
  },
  {
   "cell_type": "code",
   "execution_count": null,
   "metadata": {},
   "outputs": [],
   "source": []
  }
 ],
 "metadata": {
  "kernelspec": {
   "display_name": ".venv",
   "language": "python",
   "name": "python3"
  },
  "language_info": {
   "codemirror_mode": {
    "name": "ipython",
    "version": 3
   },
   "file_extension": ".py",
   "mimetype": "text/x-python",
   "name": "python",
   "nbconvert_exporter": "python",
   "pygments_lexer": "ipython3",
   "version": "3.11.0"
  }
 },
 "nbformat": 4,
 "nbformat_minor": 2
}
