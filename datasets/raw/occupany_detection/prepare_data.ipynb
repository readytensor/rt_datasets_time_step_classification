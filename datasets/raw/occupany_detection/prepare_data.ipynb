{
 "cells": [
  {
   "cell_type": "code",
   "execution_count": 14,
   "metadata": {},
   "outputs": [],
   "source": [
    "import os\n",
    "import pandas as pd\n",
    "from ucimlrepo import fetch_ucirepo "
   ]
  },
  {
   "cell_type": "markdown",
   "metadata": {},
   "source": [
    "## Room Detection"
   ]
  },
  {
   "cell_type": "code",
   "execution_count": 15,
   "metadata": {},
   "outputs": [],
   "source": [
    "id_col = 'id'\n",
    "time_col = 'date'\n",
    "target_col = 'Occupancy'"
   ]
  },
  {
   "cell_type": "code",
   "execution_count": 16,
   "metadata": {},
   "outputs": [],
   "source": [
    "dataset_handle = 'OccupancyDetection'\n",
    "dataset_name = 'occupancy_detection'\n",
    "processed_dir = './../../processed/'\n",
    "output_dir = f'./../../processed/{dataset_name}/'\n",
    "os.makedirs(output_dir, exist_ok=True)\n",
    "full_outp_fname = os.path.join(output_dir, f'{dataset_name}.csv')\n",
    "test_key_outp_fname = os.path.join(output_dir, f'{dataset_name}_test_key.csv')\n",
    "train_outp_fname = os.path.join(output_dir, f'{dataset_name}_train.csv')\n",
    "test_outp_fname = os.path.join(output_dir, f'{dataset_name}_test.csv')"
   ]
  },
  {
   "cell_type": "markdown",
   "metadata": {},
   "source": [
    "## Download dataset"
   ]
  },
  {
   "cell_type": "code",
   "execution_count": 17,
   "metadata": {},
   "outputs": [],
   "source": [
    "# fetch dataset \n",
    "occupancy_detection = fetch_ucirepo(id=357) \n",
    "  \n",
    "# data (as pandas dataframes) \n",
    "X = occupancy_detection.data.features \n",
    "y = occupancy_detection.data.targets \n",
    "\n",
    "data = X.copy()\n",
    "data[target_col] = y\n",
    "data = data.sort_values(by=[time_col])"
   ]
  },
  {
   "cell_type": "markdown",
   "metadata": {},
   "source": [
    "## Insert id column"
   ]
  },
  {
   "cell_type": "code",
   "execution_count": 18,
   "metadata": {},
   "outputs": [],
   "source": [
    "data.insert(0, id_col, 0)"
   ]
  },
  {
   "cell_type": "code",
   "execution_count": 19,
   "metadata": {},
   "outputs": [],
   "source": [
    "data.dropna(inplace=True)"
   ]
  },
  {
   "cell_type": "markdown",
   "metadata": {},
   "source": [
    "## Train/Test split"
   ]
  },
  {
   "cell_type": "code",
   "execution_count": 20,
   "metadata": {},
   "outputs": [],
   "source": [
    "size = data.shape[0]\n",
    "test_split = 0.2\n",
    "\n",
    "train_size = int(size * (1 - test_split))\n",
    "test_size = size - train_size\n",
    "\n",
    "train = data.iloc[:train_size]\n",
    "test = data.iloc[train_size:]\n",
    "\n",
    "test_key = test[[id_col, target_col]]\n",
    "test = test.drop(target_col, axis=1)\n"
   ]
  },
  {
   "cell_type": "code",
   "execution_count": 21,
   "metadata": {},
   "outputs": [],
   "source": [
    "data.to_csv(full_outp_fname, index=False)\n",
    "train.to_csv(train_outp_fname, index=False)\n",
    "test.to_csv(test_outp_fname, index=False)\n",
    "test_key.to_csv(test_key_outp_fname, index=False)"
   ]
  },
  {
   "cell_type": "code",
   "execution_count": 23,
   "metadata": {},
   "outputs": [
    {
     "data": {
      "text/html": [
       "<div>\n",
       "<style scoped>\n",
       "    .dataframe tbody tr th:only-of-type {\n",
       "        vertical-align: middle;\n",
       "    }\n",
       "\n",
       "    .dataframe tbody tr th {\n",
       "        vertical-align: top;\n",
       "    }\n",
       "\n",
       "    .dataframe thead th {\n",
       "        text-align: right;\n",
       "    }\n",
       "</style>\n",
       "<table border=\"1\" class=\"dataframe\">\n",
       "  <thead>\n",
       "    <tr style=\"text-align: right;\">\n",
       "      <th></th>\n",
       "      <th>id</th>\n",
       "      <th>date</th>\n",
       "      <th>Temperature</th>\n",
       "      <th>Humidity</th>\n",
       "      <th>Light</th>\n",
       "      <th>CO2</th>\n",
       "      <th>HumidityRatio</th>\n",
       "      <th>Occupancy</th>\n",
       "    </tr>\n",
       "  </thead>\n",
       "  <tbody>\n",
       "    <tr>\n",
       "      <th>8144</th>\n",
       "      <td>0</td>\n",
       "      <td>2015-02-02 14:19:00</td>\n",
       "      <td>23.7</td>\n",
       "      <td>26.272</td>\n",
       "      <td>585.2</td>\n",
       "      <td>749.2</td>\n",
       "      <td>0.00476416302416414</td>\n",
       "      <td>1.0</td>\n",
       "    </tr>\n",
       "    <tr>\n",
       "      <th>8145</th>\n",
       "      <td>0</td>\n",
       "      <td>2015-02-02 14:19:59</td>\n",
       "      <td>23.718</td>\n",
       "      <td>26.29</td>\n",
       "      <td>578.4</td>\n",
       "      <td>760.4</td>\n",
       "      <td>0.00477266099212519</td>\n",
       "      <td>1.0</td>\n",
       "    </tr>\n",
       "    <tr>\n",
       "      <th>8146</th>\n",
       "      <td>0</td>\n",
       "      <td>2015-02-02 14:21:00</td>\n",
       "      <td>23.73</td>\n",
       "      <td>26.23</td>\n",
       "      <td>572.666666666667</td>\n",
       "      <td>769.666666666667</td>\n",
       "      <td>0.00476515255246541</td>\n",
       "      <td>1.0</td>\n",
       "    </tr>\n",
       "    <tr>\n",
       "      <th>8147</th>\n",
       "      <td>0</td>\n",
       "      <td>2015-02-02 14:22:00</td>\n",
       "      <td>23.7225</td>\n",
       "      <td>26.125</td>\n",
       "      <td>493.75</td>\n",
       "      <td>774.75</td>\n",
       "      <td>0.00474377335599685</td>\n",
       "      <td>1.0</td>\n",
       "    </tr>\n",
       "    <tr>\n",
       "      <th>8148</th>\n",
       "      <td>0</td>\n",
       "      <td>2015-02-02 14:23:00</td>\n",
       "      <td>23.754</td>\n",
       "      <td>26.2</td>\n",
       "      <td>488.6</td>\n",
       "      <td>779</td>\n",
       "      <td>0.00476659399998615</td>\n",
       "      <td>1.0</td>\n",
       "    </tr>\n",
       "    <tr>\n",
       "      <th>...</th>\n",
       "      <td>...</td>\n",
       "      <td>...</td>\n",
       "      <td>...</td>\n",
       "      <td>...</td>\n",
       "      <td>...</td>\n",
       "      <td>...</td>\n",
       "      <td>...</td>\n",
       "      <td>...</td>\n",
       "    </tr>\n",
       "    <tr>\n",
       "      <th>20557</th>\n",
       "      <td>0</td>\n",
       "      <td>2015-02-18 09:15:00</td>\n",
       "      <td>20.815</td>\n",
       "      <td>27.7175</td>\n",
       "      <td>429.75</td>\n",
       "      <td>1505.25</td>\n",
       "      <td>0.00421296819328694</td>\n",
       "      <td>1.0</td>\n",
       "    </tr>\n",
       "    <tr>\n",
       "      <th>20558</th>\n",
       "      <td>0</td>\n",
       "      <td>2015-02-18 09:16:00</td>\n",
       "      <td>20.865</td>\n",
       "      <td>27.745</td>\n",
       "      <td>423.5</td>\n",
       "      <td>1514.5</td>\n",
       "      <td>0.00423026193160229</td>\n",
       "      <td>1.0</td>\n",
       "    </tr>\n",
       "    <tr>\n",
       "      <th>20559</th>\n",
       "      <td>0</td>\n",
       "      <td>2015-02-18 09:16:59</td>\n",
       "      <td>20.89</td>\n",
       "      <td>27.745</td>\n",
       "      <td>423.5</td>\n",
       "      <td>1521.5</td>\n",
       "      <td>0.00423681810140671</td>\n",
       "      <td>1.0</td>\n",
       "    </tr>\n",
       "    <tr>\n",
       "      <th>20560</th>\n",
       "      <td>0</td>\n",
       "      <td>2015-02-18 09:17:59</td>\n",
       "      <td>20.89</td>\n",
       "      <td>28.0225</td>\n",
       "      <td>418.75</td>\n",
       "      <td>1632</td>\n",
       "      <td>0.0042794854718673</td>\n",
       "      <td>1.0</td>\n",
       "    </tr>\n",
       "    <tr>\n",
       "      <th>20561</th>\n",
       "      <td>0</td>\n",
       "      <td>2015-02-18 09:19:00</td>\n",
       "      <td>21</td>\n",
       "      <td>28.1</td>\n",
       "      <td>409</td>\n",
       "      <td>1864</td>\n",
       "      <td>0.00432073200293677</td>\n",
       "      <td>1.0</td>\n",
       "    </tr>\n",
       "  </tbody>\n",
       "</table>\n",
       "<p>20560 rows × 8 columns</p>\n",
       "</div>"
      ],
      "text/plain": [
       "       id                 date Temperature Humidity             Light  \\\n",
       "8144    0  2015-02-02 14:19:00        23.7   26.272             585.2   \n",
       "8145    0  2015-02-02 14:19:59      23.718    26.29             578.4   \n",
       "8146    0  2015-02-02 14:21:00       23.73    26.23  572.666666666667   \n",
       "8147    0  2015-02-02 14:22:00     23.7225   26.125            493.75   \n",
       "8148    0  2015-02-02 14:23:00      23.754     26.2             488.6   \n",
       "...    ..                  ...         ...      ...               ...   \n",
       "20557   0  2015-02-18 09:15:00      20.815  27.7175            429.75   \n",
       "20558   0  2015-02-18 09:16:00      20.865   27.745             423.5   \n",
       "20559   0  2015-02-18 09:16:59       20.89   27.745             423.5   \n",
       "20560   0  2015-02-18 09:17:59       20.89  28.0225            418.75   \n",
       "20561   0  2015-02-18 09:19:00          21     28.1               409   \n",
       "\n",
       "                    CO2        HumidityRatio  Occupancy  \n",
       "8144              749.2  0.00476416302416414        1.0  \n",
       "8145              760.4  0.00477266099212519        1.0  \n",
       "8146   769.666666666667  0.00476515255246541        1.0  \n",
       "8147             774.75  0.00474377335599685        1.0  \n",
       "8148                779  0.00476659399998615        1.0  \n",
       "...                 ...                  ...        ...  \n",
       "20557           1505.25  0.00421296819328694        1.0  \n",
       "20558            1514.5  0.00423026193160229        1.0  \n",
       "20559            1521.5  0.00423681810140671        1.0  \n",
       "20560              1632   0.0042794854718673        1.0  \n",
       "20561              1864  0.00432073200293677        1.0  \n",
       "\n",
       "[20560 rows x 8 columns]"
      ]
     },
     "execution_count": 23,
     "metadata": {},
     "output_type": "execute_result"
    }
   ],
   "source": [
    "data"
   ]
  },
  {
   "cell_type": "code",
   "execution_count": null,
   "metadata": {},
   "outputs": [],
   "source": []
  }
 ],
 "metadata": {
  "kernelspec": {
   "display_name": ".venv",
   "language": "python",
   "name": "python3"
  },
  "language_info": {
   "codemirror_mode": {
    "name": "ipython",
    "version": 3
   },
   "file_extension": ".py",
   "mimetype": "text/x-python",
   "name": "python",
   "nbconvert_exporter": "python",
   "pygments_lexer": "ipython3",
   "version": "3.11.0"
  }
 },
 "nbformat": 4,
 "nbformat_minor": 2
}
